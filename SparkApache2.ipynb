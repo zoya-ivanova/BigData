{
  "nbformat": 4,
  "nbformat_minor": 0,
  "metadata": {
    "colab": {
      "provenance": [],
      "authorship_tag": "ABX9TyM1kECH11c/vZbnZnNb/7qO",
      "include_colab_link": true
    },
    "kernelspec": {
      "name": "python3",
      "display_name": "Python 3"
    },
    "language_info": {
      "name": "python"
    }
  },
  "cells": [
    {
      "cell_type": "markdown",
      "metadata": {
        "id": "view-in-github",
        "colab_type": "text"
      },
      "source": [
        "<a href=\"https://colab.research.google.com/github/zoya-ivanova/BigData/blob/main/SparkApache2.ipynb\" target=\"_parent\"><img src=\"https://colab.research.google.com/assets/colab-badge.svg\" alt=\"Open In Colab\"/></a>"
      ]
    },
    {
      "cell_type": "markdown",
      "source": [
        "##Spark Apache <br>\n",
        "### Инструменты работы и визуализации\n",
        "\n",
        "Условие: дана таблица с колонками (id, name, salary, managerId), студентам необходимо написать код на spark, <br>\n",
        "который создаст эту таблицу (данные указаны ниже) и в результате выдаст таблицу в которой будут имена сотрудников, <br>\n",
        "которые зарабатывают больше своих менеджеров.\n",
        "\n",
        "![image.png](data:image/png;base64,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)\n",
        "\n"
      ],
      "metadata": {
        "id": "N0DgloJv-wqA"
      }
    },
    {
      "cell_type": "code",
      "source": [
        "! pip install pyspark"
      ],
      "metadata": {
        "colab": {
          "base_uri": "https://localhost:8080/"
        },
        "id": "R0ld01cSBTku",
        "outputId": "e8e5de5e-aaf2-4c4d-b789-4d66af68ac3b"
      },
      "execution_count": 3,
      "outputs": [
        {
          "output_type": "stream",
          "name": "stdout",
          "text": [
            "Collecting pyspark\n",
            "  Downloading pyspark-3.5.1.tar.gz (317.0 MB)\n",
            "\u001b[2K     \u001b[90m━━━━━━━━━━━━━━━━━━━━━━━━━━━━━━━━━━━━━━━━\u001b[0m \u001b[32m317.0/317.0 MB\u001b[0m \u001b[31m2.0 MB/s\u001b[0m eta \u001b[36m0:00:00\u001b[0m\n",
            "\u001b[?25h  Preparing metadata (setup.py) ... \u001b[?25l\u001b[?25hdone\n",
            "Requirement already satisfied: py4j==0.10.9.7 in /usr/local/lib/python3.10/dist-packages (from pyspark) (0.10.9.7)\n",
            "Building wheels for collected packages: pyspark\n",
            "  Building wheel for pyspark (setup.py) ... \u001b[?25l\u001b[?25hdone\n",
            "  Created wheel for pyspark: filename=pyspark-3.5.1-py2.py3-none-any.whl size=317488491 sha256=2b485f72274b377e33c1b8216996d4b20d853cce72e216a4f95d8053577ada73\n",
            "  Stored in directory: /root/.cache/pip/wheels/80/1d/60/2c256ed38dddce2fdd93be545214a63e02fbd8d74fb0b7f3a6\n",
            "Successfully built pyspark\n",
            "Installing collected packages: pyspark\n",
            "Successfully installed pyspark-3.5.1\n"
          ]
        }
      ]
    },
    {
      "cell_type": "code",
      "source": [
        "# Импортируем модуль Apache Spark - Spark SQL\n",
        "from pyspark.sql import SparkSession"
      ],
      "metadata": {
        "id": "dGP5D6hw_Q0Z"
      },
      "execution_count": 8,
      "outputs": []
    },
    {
      "cell_type": "code",
      "source": [
        "# Создаем (инициализируем) SparkSession\n",
        "\n",
        "spark = SparkSession.builder.appName(\"EmployeeSalaryComparison\").getOrCreate()"
      ],
      "metadata": {
        "id": "ex5updt_EqQZ"
      },
      "execution_count": 6,
      "outputs": []
    },
    {
      "cell_type": "code",
      "source": [
        "#  Составляем data - лист из кортежей элементов таблицы\n",
        "data = [(1, \"Joe\", 70, 3),\n",
        "        (2, \"Henry\", 80, 4),\n",
        "        (3, \"Sam\", 60, None),\n",
        "        (4, \"Max\", 90, None)]\n",
        "\n",
        "# Создаем DataFrame\n",
        "df = spark.createDataFrame(data, [\"Id\", \"name\", \"Salary\", \"managerId\"])\n",
        "\n",
        "# Выводим созданную таблицу\n",
        "df.show()"
      ],
      "metadata": {
        "colab": {
          "base_uri": "https://localhost:8080/"
        },
        "id": "Joa-oBn9DT89",
        "outputId": "6a500f4e-2509-4873-ea45-8ba457957c75"
      },
      "execution_count": 15,
      "outputs": [
        {
          "output_type": "stream",
          "name": "stdout",
          "text": [
            "+---+-----+------+---------+\n",
            "| Id| name|Salary|managerId|\n",
            "+---+-----+------+---------+\n",
            "|  1|  Joe|    70|        3|\n",
            "|  2|Henry|    80|        4|\n",
            "|  3|  Sam|    60|     NULL|\n",
            "|  4|  Max|    90|     NULL|\n",
            "+---+-----+------+---------+\n",
            "\n"
          ]
        }
      ]
    },
    {
      "cell_type": "code",
      "source": [
        "# Регистрируем DataFrame как временное представление (становится доступным для выполнения SQL-запросов к данным этого DataFrame)\n",
        "df.createOrReplaceTempView(\"employees\")"
      ],
      "metadata": {
        "id": "3irTRLz9PL8r"
      },
      "execution_count": 26,
      "outputs": []
    },
    {
      "cell_type": "code",
      "source": [
        "# Выполняем SQL-запрос для получения имен сотрудников, которые зарабатывают больше своих менеджеров\n",
        "result = spark.sql(\n",
        "    \"\"\"\n",
        "    SELECT e.name\n",
        "    FROM employees e\n",
        "    JOIN employees m ON e.managerId = m.Id\n",
        "    WHERE e.Salary > m.Salary\n",
        "    \"\"\"\n",
        ")\n",
        "\n",
        "# Выводим результат\n",
        "result.show()"
      ],
      "metadata": {
        "colab": {
          "base_uri": "https://localhost:8080/"
        },
        "id": "u5gcsOygEmhS",
        "outputId": "155d847c-c429-4623-e5e0-a182cb7d14e5"
      },
      "execution_count": 27,
      "outputs": [
        {
          "output_type": "stream",
          "name": "stdout",
          "text": [
            "+----+\n",
            "|name|\n",
            "+----+\n",
            "| Joe|\n",
            "+----+\n",
            "\n"
          ]
        }
      ]
    }
  ]
}