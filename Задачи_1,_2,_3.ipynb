{
  "nbformat": 4,
  "nbformat_minor": 0,
  "metadata": {
    "colab": {
      "provenance": [],
      "include_colab_link": true
    },
    "kernelspec": {
      "name": "python3",
      "display_name": "Python 3"
    },
    "language_info": {
      "name": "python"
    }
  },
  "cells": [
    {
      "cell_type": "markdown",
      "metadata": {
        "id": "view-in-github",
        "colab_type": "text"
      },
      "source": [
        "<a href=\"https://colab.research.google.com/github/zoya-ivanova/BigData/blob/main/%D0%97%D0%B0%D0%B4%D0%B0%D1%87%D0%B8_1%2C_2%2C_3.ipynb\" target=\"_parent\"><img src=\"https://colab.research.google.com/assets/colab-badge.svg\" alt=\"Open In Colab\"/></a>"
      ]
    },
    {
      "cell_type": "markdown",
      "source": [
        "Задача 1. map( )\n",
        "\n",
        "У нас есть список чисел. Мы хотим получить новый список, в котором каждый элемент будет возводиться\n",
        "в квадрат. Ниже показано решение задача через цикл, решите задачу с помощью функции map:"
      ],
      "metadata": {
        "id": "auXMOyBZvJKt"
      }
    },
    {
      "cell_type": "code",
      "source": [
        "numbers = [1, 2, 3, 4, 5]\n",
        "new_numbers = []\n",
        "for num in numbers:\n",
        "  squared = num**2\n",
        "  new_numbers.append(squared)\n",
        "\n",
        "print(new_numbers)"
      ],
      "metadata": {
        "colab": {
          "base_uri": "https://localhost:8080/"
        },
        "id": "7YdLu6n6vKTS",
        "outputId": "712997ab-eb0f-4d99-bb5b-145a6373a7b4"
      },
      "execution_count": 1,
      "outputs": [
        {
          "output_type": "stream",
          "name": "stdout",
          "text": [
            "[1, 4, 9, 16, 25]\n"
          ]
        }
      ]
    },
    {
      "cell_type": "code",
      "source": [
        "#Ваше решение\n",
        "print(list(map(lambda x: x**2, numbers)))"
      ],
      "metadata": {
        "id": "yyLIO4l5v5T0",
        "colab": {
          "base_uri": "https://localhost:8080/"
        },
        "outputId": "d2eef805-63df-4031-960d-ac4b4976dbe8"
      },
      "execution_count": 2,
      "outputs": [
        {
          "output_type": "stream",
          "name": "stdout",
          "text": [
            "[1, 4, 9, 16, 25]\n"
          ]
        }
      ]
    },
    {
      "cell_type": "code",
      "source": [
        "def sq(num):\n",
        "  squared = num ** 2\n",
        "  return squared"
      ],
      "metadata": {
        "id": "NIqNr2KopZSS"
      },
      "execution_count": 4,
      "outputs": []
    },
    {
      "cell_type": "code",
      "source": [
        "new = (list(map(sq, numbers)))\n",
        "new"
      ],
      "metadata": {
        "colab": {
          "base_uri": "https://localhost:8080/"
        },
        "id": "n8OekZcoqAma",
        "outputId": "94e5a3f8-89f2-4ab1-fcca-2284eb22fa43"
      },
      "execution_count": 5,
      "outputs": [
        {
          "output_type": "execute_result",
          "data": {
            "text/plain": [
              "[1, 4, 9, 16, 25]"
            ]
          },
          "metadata": {},
          "execution_count": 5
        }
      ]
    },
    {
      "cell_type": "code",
      "source": [
        "a = map(sq, numbers)\n",
        "a"
      ],
      "metadata": {
        "colab": {
          "base_uri": "https://localhost:8080/"
        },
        "id": "0DzFNJq0qz5u",
        "outputId": "993a5072-325f-4fe1-c589-ff7cfc5be42a"
      },
      "execution_count": 6,
      "outputs": [
        {
          "output_type": "execute_result",
          "data": {
            "text/plain": [
              "<map at 0x78ffd30f55a0>"
            ]
          },
          "metadata": {},
          "execution_count": 6
        }
      ]
    },
    {
      "cell_type": "code",
      "source": [
        "#генератор, вы дает сначала 1, по сле запуска 4 и тд по сле 25 будет ошибка\n",
        "next(a)"
      ],
      "metadata": {
        "colab": {
          "base_uri": "https://localhost:8080/"
        },
        "id": "WGacc1Idq-p0",
        "outputId": "3791574c-9599-4b3d-c0df-2faf866cbaa9"
      },
      "execution_count": 7,
      "outputs": [
        {
          "output_type": "execute_result",
          "data": {
            "text/plain": [
              "1"
            ]
          },
          "metadata": {},
          "execution_count": 7
        }
      ]
    },
    {
      "cell_type": "markdown",
      "source": [
        "Задача 2. reduce( )\n",
        "\n",
        "У нас есть список чисел, и мы хотим получить их сумму.\n",
        "Ниже показано решение задача через цикл, решите задачу с помощью функции reduce:"
      ],
      "metadata": {
        "id": "jmEBB1dxv4Zz"
      }
    },
    {
      "cell_type": "code",
      "source": [
        "numbers = [1, 2, 3, 4, 5]\n",
        "result = 0\n",
        "for num in numbers:\n",
        "  result += num\n",
        "\n",
        "print(result)"
      ],
      "metadata": {
        "colab": {
          "base_uri": "https://localhost:8080/"
        },
        "id": "FzHo6ssdwXnE",
        "outputId": "c6361000-c7c8-4c37-c5e9-06f3fe488470"
      },
      "execution_count": null,
      "outputs": [
        {
          "output_type": "stream",
          "name": "stdout",
          "text": [
            "15\n"
          ]
        }
      ]
    },
    {
      "cell_type": "code",
      "source": [
        "# Ваше решение\n",
        "from functools import reduce\n",
        "print(reduce(lambda x, y: x + y, numbers))"
      ],
      "metadata": {
        "id": "2x5J3FTTwwjr",
        "colab": {
          "base_uri": "https://localhost:8080/"
        },
        "outputId": "c4c08f92-eb87-46e0-c690-90089452895a"
      },
      "execution_count": 3,
      "outputs": [
        {
          "output_type": "stream",
          "name": "stdout",
          "text": [
            "15\n"
          ]
        }
      ]
    },
    {
      "cell_type": "markdown",
      "source": [
        "Задача 3. filter( )\n",
        "\n",
        "У нас есть список чисел и мы хотим получить только те, которые больше пяти. Ниже показано решение задача\n",
        "через цикл, решите задачу с помощью функции filter:"
      ],
      "metadata": {
        "id": "uQeD4Sjzwz_l"
      }
    },
    {
      "cell_type": "code",
      "source": [
        "numbers = [2, 7, 1, 8, 4, 5]\n",
        "result = []\n",
        "for num in numbers:\n",
        "  if num > 5:\n",
        "    result.append(num)\n",
        "\n",
        "print(result)"
      ],
      "metadata": {
        "colab": {
          "base_uri": "https://localhost:8080/"
        },
        "id": "C5HtYCYawzaq",
        "outputId": "c66dfa6d-95aa-4d87-d5ea-663149f55879"
      },
      "execution_count": 8,
      "outputs": [
        {
          "output_type": "stream",
          "name": "stdout",
          "text": [
            "[7, 8]\n"
          ]
        }
      ]
    },
    {
      "cell_type": "code",
      "source": [
        "# ваше решение\n",
        "list(filter(lambda x: x>5, numbers))"
      ],
      "metadata": {
        "id": "XM8bB_uTxKaq",
        "colab": {
          "base_uri": "https://localhost:8080/"
        },
        "outputId": "e09d022d-98d2-4bab-83ed-ae8e52ff2817"
      },
      "execution_count": 9,
      "outputs": [
        {
          "output_type": "execute_result",
          "data": {
            "text/plain": [
              "[7, 8]"
            ]
          },
          "metadata": {},
          "execution_count": 9
        }
      ]
    }
  ]
}