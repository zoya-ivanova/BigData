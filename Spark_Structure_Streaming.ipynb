{
  "nbformat": 4,
  "nbformat_minor": 0,
  "metadata": {
    "colab": {
      "provenance": [],
      "authorship_tag": "ABX9TyM6enwaEIHDaC7f9ke1m3ws",
      "include_colab_link": true
    },
    "kernelspec": {
      "name": "python3",
      "display_name": "Python 3"
    },
    "language_info": {
      "name": "python"
    }
  },
  "cells": [
    {
      "cell_type": "markdown",
      "metadata": {
        "id": "view-in-github",
        "colab_type": "text"
      },
      "source": [
        "<a href=\"https://colab.research.google.com/github/zoya-ivanova/BigData/blob/main/Spark_Structure_Streaming.ipynb\" target=\"_parent\"><img src=\"https://colab.research.google.com/assets/colab-badge.svg\" alt=\"Open In Colab\"/></a>"
      ]
    },
    {
      "cell_type": "markdown",
      "source": [
        "## Spark Apache\n",
        "\n",
        "### Spark Structure Streaming"
      ],
      "metadata": {
        "id": "rqmIGkPPhYgg"
      }
    },
    {
      "cell_type": "code",
      "execution_count": null,
      "metadata": {
        "colab": {
          "base_uri": "https://localhost:8080/"
        },
        "collapsed": true,
        "id": "aQja2li1hEg9",
        "outputId": "b69916bb-8540-4e16-e594-e5174d530791"
      },
      "outputs": [
        {
          "output_type": "stream",
          "name": "stdout",
          "text": [
            "Collecting pyspark\n",
            "  Downloading pyspark-3.5.1.tar.gz (317.0 MB)\n",
            "\u001b[2K     \u001b[90m━━━━━━━━━━━━━━━━━━━━━━━━━━━━━━━━━━━━━━━━\u001b[0m \u001b[32m317.0/317.0 MB\u001b[0m \u001b[31m1.9 MB/s\u001b[0m eta \u001b[36m0:00:00\u001b[0m\n",
            "\u001b[?25h  Preparing metadata (setup.py) ... \u001b[?25l\u001b[?25hdone\n",
            "Requirement already satisfied: py4j==0.10.9.7 in /usr/local/lib/python3.10/dist-packages (from pyspark) (0.10.9.7)\n",
            "Building wheels for collected packages: pyspark\n",
            "  Building wheel for pyspark (setup.py) ... \u001b[?25l\u001b[?25hdone\n",
            "  Created wheel for pyspark: filename=pyspark-3.5.1-py2.py3-none-any.whl size=317488491 sha256=6d6c163f98d3c8e37ccd0459d760058767d4ae906ad05aaef23176d49739cf8c\n",
            "  Stored in directory: /root/.cache/pip/wheels/80/1d/60/2c256ed38dddce2fdd93be545214a63e02fbd8d74fb0b7f3a6\n",
            "Successfully built pyspark\n",
            "Installing collected packages: pyspark\n",
            "Successfully installed pyspark-3.5.1\n"
          ]
        }
      ],
      "source": [
        "! pip install pyspark"
      ]
    },
    {
      "cell_type": "code",
      "source": [
        "from pyspark.sql import SparkSession\n",
        "from pyspark.sql.functions import avg\n",
        "import pyspark.sql.functions as F\n",
        "from pyspark.sql import Window\n",
        "from pyspark.sql.functions import col, sum, when, lit\n"
      ],
      "metadata": {
        "id": "T_rk4nX_nRvK"
      },
      "execution_count": null,
      "outputs": []
    },
    {
      "cell_type": "markdown",
      "source": [
        "### ДЗ. Условие: используйте источник rate, напишите код, который создаст дополнительный столбец, который будет выводить сумму только нечётных чисел."
      ],
      "metadata": {
        "id": "OEx3M1FjQ3Z9"
      }
    },
    {
      "cell_type": "markdown",
      "source": [],
      "metadata": {
        "id": "jqdr2rhGHF96"
      }
    },
    {
      "cell_type": "code",
      "source": [
        "# Создание сессии SparkSession\n",
        "spark = SparkSession.builder.master(\"local\").getOrCreate()\n",
        "\n",
        "# Создание потока данных (стрима)\n",
        "rate_stream = spark.readStream.format(\"rate\").load()\n",
        "\n",
        "# Операция для подсчета суммы нечетных чисел\n",
        "odd_rate_sum = rate_stream.groupBy().agg(F.sum(F.when(F.col(\"value\") % 2 != 0,\n",
        "                      F.col(\"value\")).otherwise('next')).alias(\"odd_value_sum\"))\n",
        "\n",
        "# Вывести поток данных\n",
        "query = odd_rate_sum.writeStream.outputMode(\"complete\").format(\"console\").start()\n",
        "\n",
        "# Ждать 2 сек, завершить\n",
        "query.awaitTermination(2)\n",
        "query.stop()"
      ],
      "metadata": {
        "collapsed": true,
        "id": "rvdQl-mBREnF"
      },
      "execution_count": null,
      "outputs": []
    },
    {
      "cell_type": "markdown",
      "source": [
        "Семинар. Задачи\n",
        "\n",
        "1/ Условие: есть набор данных о студентах и оценках по предметам.\n",
        "\n",
        "Используя Apache Spark, Примените операцию pivot для того, чтобы преобразовать полученные данные таким образом, чтобы в качестве строк были струденты, в качестве столбцов были предметы, а значениями оценки.\n",
        "\n",
        "Затем вывести средние оценки студентов по каждому предмету."
      ],
      "metadata": {
        "id": "v5zzRfI12Nqn"
      }
    },
    {
      "cell_type": "code",
      "source": [
        "spark = SparkSession.builder.appName(\"pivot_example\").getOrCreate()\n",
        "\n",
        "# Создаем DF\n",
        "data = [(\"Alice\", \"Math\", 90),\n",
        "        (\"Alice\", \"Physics\", 85),\n",
        "        (\"Bob\", \"Math\", 70),\n",
        "        (\"Bob\", \"Physics\", 75),\n",
        "        (\"Bob\", \"History\", 75),\n",
        "        (\"John\", \"Math\", 65),\n",
        "        (\"Jonh\", \"Physics\", 75),\n",
        "        (\"Jane\", \"Math\", 100),\n",
        "        (\"Jane\", \"Physics\", 90),\n",
        "        (\"Jane\", \"History\", 95)]\n",
        "\n",
        "df = spark.createDataFrame(data, [\"name\", \"subject\", \"grade\"])\n",
        "\n",
        "df.show()\n"
      ],
      "metadata": {
        "colab": {
          "base_uri": "https://localhost:8080/"
        },
        "id": "Vm8dk1uvbWW-",
        "outputId": "28ea4feb-a408-4fb3-cf40-8fe906eaeb5d"
      },
      "execution_count": null,
      "outputs": [
        {
          "output_type": "stream",
          "name": "stdout",
          "text": [
            "+-----+-------+-----+\n",
            "| name|subject|grade|\n",
            "+-----+-------+-----+\n",
            "|Alice|   Math|   90|\n",
            "|Alice|Physics|   85|\n",
            "|  Bob|   Math|   70|\n",
            "|  Bob|Physics|   75|\n",
            "|  Bob|History|   75|\n",
            "| John|   Math|   65|\n",
            "| Jonh|Physics|   75|\n",
            "| Jane|   Math|  100|\n",
            "| Jane|Physics|   90|\n",
            "| Jane|History|   95|\n",
            "+-----+-------+-----+\n",
            "\n"
          ]
        }
      ]
    },
    {
      "cell_type": "code",
      "source": [
        "\n",
        "# Выполняем операцию pivot, чтобы получить таблицу с категориями в строках и днями в столбцах\n",
        "df_pivot = df.groupBy(\"name\").pivot(\"subject\").agg(F.avg(\"grade\"))\n",
        "\n",
        "# Выводим результирующий DataFrame\n",
        "df_pivot.show()"
      ],
      "metadata": {
        "colab": {
          "base_uri": "https://localhost:8080/"
        },
        "id": "Y3T3YgfscLan",
        "outputId": "b85e95c9-7bad-4456-a66d-f9a6f6adc001"
      },
      "execution_count": null,
      "outputs": [
        {
          "output_type": "stream",
          "name": "stdout",
          "text": [
            "+-----+-------+-----+-------+\n",
            "| name|History| Math|Physics|\n",
            "+-----+-------+-----+-------+\n",
            "| Jonh|   NULL| NULL|   75.0|\n",
            "|  Bob|   75.0| 70.0|   75.0|\n",
            "| John|   NULL| 65.0|   NULL|\n",
            "|Alice|   NULL| 90.0|   85.0|\n",
            "| Jane|   95.0|100.0|   90.0|\n",
            "+-----+-------+-----+-------+\n",
            "\n"
          ]
        }
      ]
    },
    {
      "cell_type": "code",
      "source": [
        "# Останавливаем SparkSession\n",
        "spark.stop()"
      ],
      "metadata": {
        "id": "qoI5b8wyhNbg"
      },
      "execution_count": null,
      "outputs": []
    },
    {
      "cell_type": "markdown",
      "source": [
        "2/ Найти среднее значение прожаж для каждого месяца по каждому продукту, а также для каждого продукта найти месяц с наибольшим объемом продаж"
      ],
      "metadata": {
        "id": "NcbytI4LcMCS"
      }
    },
    {
      "cell_type": "code",
      "source": [
        "spark = SparkSession.builder.appName(\"window_functions_example\").getOrCreate()\n",
        "\n",
        "# Создаем DF\n",
        "sales_data = [(1, \"2021-01-01\", \"product1\", 100), (2, \"2021-01-15\", \"product1\", 150),\n",
        "              (3, \"2021-02-10\", \"product1\", 200), (4, \"2021-01-05\", \"product2\", 120),\n",
        "              (5, \"2021-02-20\", \"product2\", 180), (6, \"2021-01-08\", \"product3\", 100),\n",
        "              (7, \"2021-02-13\", \"product3\", 110), (8, \"2021-02-22\", \"product3\", 220),\n",
        "              (9, \"2021-01-02\", \"product4\", 225), (10, \"2021-02-28\", \"produc4\", 80),\n",
        "       ]\n",
        "\n",
        "sales_df = spark.createDataFrame(sales_data, [\"id\", \"date\", \"product\", \"amount\"])\n",
        "\n",
        "sales_df.show()"
      ],
      "metadata": {
        "colab": {
          "base_uri": "https://localhost:8080/"
        },
        "id": "AYDbnkbZ7xR_",
        "outputId": "412112f8-4194-4ac8-8011-09687dba3e47"
      },
      "execution_count": null,
      "outputs": [
        {
          "output_type": "stream",
          "name": "stdout",
          "text": [
            "+---+----------+--------+------+\n",
            "| id|      date| product|amount|\n",
            "+---+----------+--------+------+\n",
            "|  1|2021-01-01|product1|   100|\n",
            "|  2|2021-01-15|product1|   150|\n",
            "|  3|2021-02-10|product1|   200|\n",
            "|  4|2021-01-05|product2|   120|\n",
            "|  5|2021-02-20|product2|   180|\n",
            "|  6|2021-01-08|product3|   100|\n",
            "|  7|2021-02-13|product3|   110|\n",
            "|  8|2021-02-22|product3|   220|\n",
            "|  9|2021-01-02|product4|   225|\n",
            "| 10|2021-02-28| produc4|    80|\n",
            "+---+----------+--------+------+\n",
            "\n"
          ]
        }
      ]
    },
    {
      "cell_type": "code",
      "source": [
        "# Оконная функция для нахождения ср знач продаж по месяцам\n",
        "monthly_avg_sales_window = Window.partitionBy(\"product\", F.month(\"date\")).orderBy(\"data\")"
      ],
      "metadata": {
        "id": "tN8BhPRdBy7f"
      },
      "execution_count": null,
      "outputs": []
    },
    {
      "cell_type": "code",
      "source": [
        "# Добавление столбца со средними значениями продаж по месяцам в исходном дата фрейме\n",
        "\n",
        "sales_df = sales_df.withColunm(\"monthly_avg_sales\", F.avg(\"amount\").over(monthly_avg_sales_window))"
      ],
      "metadata": {
        "id": "9ANUC1V4EMU8"
      },
      "execution_count": null,
      "outputs": []
    },
    {
      "cell_type": "markdown",
      "source": [
        "\n",
        "## Apache Spark Structured Streaming"
      ],
      "metadata": {
        "id": "XXbFynF3NkvX"
      }
    },
    {
      "cell_type": "markdown",
      "source": [
        "1/ Создайте поток данных “rate” и просто выведите данные в консоль"
      ],
      "metadata": {
        "id": "QPUzVONCNw6H"
      }
    },
    {
      "cell_type": "code",
      "source": [
        "spark = SparkSession.builder.appName(\"CountElements\").getOrCreate()   # Инициал Spar сессии\n",
        "df = spark.readStream.format(\"rate\").load()                           # Чтение данных из rate источника\n",
        "query = df.writeStream.outputMode(\"append\").format(\"console\").start() # Запись в консоль\n",
        "query.awaitTermination(1)                                             # Ожидание завершения записи\n",
        "query.stop()"
      ],
      "metadata": {
        "id": "D_XRBVlRNYsc"
      },
      "execution_count": null,
      "outputs": []
    },
    {
      "cell_type": "markdown",
      "source": [
        "2/ Фильтрация чисел (только четные)"
      ],
      "metadata": {
        "id": "Xc53Iy9LWgsM"
      }
    },
    {
      "cell_type": "code",
      "source": [
        "spark = SparkSession.builder.appName(\"FilterEvenNumbers\").getOrCreate()\n",
        "df = spark.readStream.format(\"rate\").load()\n",
        "df_even = df.filter(\"value % 2 == 0\")\n",
        "query = df.writeStream.outputMode(\"append\").format(\"console\").start()\n",
        "query.awaitTermination(2)\n",
        "query.stop()"
      ],
      "metadata": {
        "id": "SPhRF7ffWiXR"
      },
      "execution_count": null,
      "outputs": []
    },
    {
      "cell_type": "markdown",
      "source": [
        "3/ Сгруппировать по значениям и посчитать количество"
      ],
      "metadata": {
        "id": "gJWPrqzndlQG"
      }
    },
    {
      "cell_type": "code",
      "source": [
        "spark = SparkSession.builder.appName(\"GroupByValue\").getOrCreate()\n",
        "df = spark.readStream.format(\"rate\").load()\n",
        "df_grouped = df.groupBy(\"value\").count()\n",
        "query = df_grouped.writeStream.outputMode(\"update\").format(\"console\").start()\n",
        "query.awaitTermination(2)\n",
        "query.stop()"
      ],
      "metadata": {
        "id": "ZGMU43uGdm8L"
      },
      "execution_count": null,
      "outputs": []
    },
    {
      "cell_type": "markdown",
      "source": [
        "4/ Вычислить сумму значений"
      ],
      "metadata": {
        "id": "ag3_hoNMedT1"
      }
    },
    {
      "cell_type": "code",
      "source": [
        "spark = SparkSession.builder.appName(\"SumValues\").getOrCreate()\n",
        "df = spark.readStream.format(\"rate\").load()\n",
        "df_sum = df.selectExpr(\"sum(value) AS total\")\n",
        "query = df_sum.writeStream.outputMode(\"update\").format(\"console\").start()\n",
        "query.awaitTermination(2)\n",
        "query.stop()"
      ],
      "metadata": {
        "id": "XYkitsghej4r"
      },
      "execution_count": null,
      "outputs": []
    },
    {
      "cell_type": "markdown",
      "source": [
        "5/ Найти максимальное значение"
      ],
      "metadata": {
        "id": "T0LKSeSNfKy5"
      }
    },
    {
      "cell_type": "code",
      "source": [
        "spark = SparkSession.builder.appName(\"MaxValue\").getOrCreate()\n",
        "df = spark.readStream.format(\"rate\").load()\n",
        "df_max = df.agg(F.max(\"value\"))\n",
        "query = df_max.writeStream.outputMode(\"update\").format(\"console\").start()\n",
        "query.awaitTermination(2)\n",
        "query.stop()"
      ],
      "metadata": {
        "id": "F6WKHKNvfOZA"
      },
      "execution_count": null,
      "outputs": []
    },
    {
      "cell_type": "markdown",
      "source": [
        "6/ Вычислить скользящее окно по значению"
      ],
      "metadata": {
        "id": "ruODxKpireXR"
      }
    },
    {
      "cell_type": "code",
      "source": [
        "spark = SparkSession.builder.appName(\"SlidingWindow\").getOrCreate()\n",
        "df = spark.readStream.format(\"rate\").load()\n",
        "df_windowed = df.groupBy(F.window(\"timestamp\", \"10 minutes\")).count()\n",
        "query = df_windowed.writeStream.outputMode(\"update\").format(\"console\").start()\n",
        "query.awaitTermination(2)\n",
        "query.stop()"
      ],
      "metadata": {
        "id": "dE_rzzUbrgnR"
      },
      "execution_count": null,
      "outputs": []
    },
    {
      "cell_type": "markdown",
      "source": [
        "7/ Соединение потоков данных"
      ],
      "metadata": {
        "id": "V3WKDkeLr50H"
      }
    },
    {
      "cell_type": "code",
      "source": [
        "spark = SparkSession.builder.appName(\"JoinStreams\").getOrCreate()\n",
        "df1 = spark.readStream.format(\"rate\").load()\n",
        "df2 = spark.readStream.format(\"rate\").load()\n",
        "df_joined = df1.join(df2, \"value\")\n",
        "query = df_joined.writeStream.outputMode(\"append\").format(\"console\").start()\n",
        "query.awaitTermination(2)\n",
        "query.stop()"
      ],
      "metadata": {
        "id": "U5GgqDIar7eX"
      },
      "execution_count": null,
      "outputs": []
    },
    {
      "cell_type": "markdown",
      "source": [
        "8/ Запись данных в файл"
      ],
      "metadata": {
        "id": "rTjFBUlpr-AO"
      }
    },
    {
      "cell_type": "code",
      "source": [
        "spark = SparkSession.builder.appName(\"WriteToFile\").getOrCreate()\n",
        "df = spark.readStream.format(\"rate\").load()\n",
        "query = df.writeStream.format(\"parquet\").option(\"path\", \"output/\").start()\n",
        "query.awaitTermination(2)\n",
        "query.stop()"
      ],
      "metadata": {
        "id": "htsNPPMLvitS"
      },
      "execution_count": null,
      "outputs": []
    }
  ]
}